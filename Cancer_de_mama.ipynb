{
 "cells": [
  {
   "cell_type": "markdown",
   "metadata": {
    "id": "j5Poar067snC"
   },
   "source": [
    "# ***Melhoria das redes neurais para a base de cancer de mama***"
   ]
  },
  {
   "cell_type": "markdown",
   "metadata": {},
   "source": [
    "## Introdução\n",
    "\n",
    "A ciência de dados lida com vários problemas: previsão de preços, classificação de flores, análises de grupos, etc.\n",
    "\n",
    "Um dos problemas que a ciência de dados tenta resolver por meio de modelos e estatística é a classificação de tumores que podem ser ou não cânceres de mama. Para tal são usadas diversos dados númericos que correspondem às diversas caracteristicas do tumor (raio, textura, área, concavidade, etc.). Esses dados são subtidos a modelos de classificação binária que determinam qual é mais provavel, ser benigno ou malgno.\n",
    "\n",
    "Uma forma de criar tais modelos é por meio de uma rede neural. Porém, redes neurais podem possuir diversos tamanhos e parâmetros, qual seria o melhor tamanho e os melhores parâmetros para a melhor rede neural classificadora neste problema?\n",
    "\n",
    "Esse é o mote deste notebook: determinar, dentre certas opções, quais seriam os melhores parâmetros para a criação desta rede neural.\n",
    "\n",
    "Serão testados pré processamentos dos dados, otimizadores ('adam', 'SGD', 'RMSprop'), funções de ativação da camada oculta ('relu' e 'elu'), quantidades de neurônios nas camadas ocultas (8, 16, 32), quantidade de camadas ocultas (2, 3, 4) e porcentagens de dropout (0, 0.2, 0.25)"
   ]
  },
  {
   "cell_type": "markdown",
   "metadata": {
    "id": "qHoy4cCU7r_6"
   },
   "source": [
    "## Atualização das bibliotecas\n",
    "\n",
    "Foram usadas nesse notebook as bibliotecas Keras, TensorFlow, SciKeras e H5py em suas versões mais atuais. Seção dispensável de execução caso as bibliotecas já estejam atualizadas para a versão mais recente de 2022"
   ]
  },
  {
   "cell_type": "code",
   "execution_count": null,
   "metadata": {
    "colab": {
     "base_uri": "https://localhost:8080/"
    },
    "id": "4baEMjxaoYDU",
    "outputId": "0b4f8558-b855-4e48-9add-5f4453e96799"
   },
   "outputs": [],
   "source": [
    "!pip install --upgrade keras"
   ]
  },
  {
   "cell_type": "code",
   "execution_count": null,
   "metadata": {
    "colab": {
     "base_uri": "https://localhost:8080/"
    },
    "id": "fD2KKCGbo3RN",
    "outputId": "4de66614-8881-4fbe-8c94-c070f6d53abc"
   },
   "outputs": [],
   "source": [
    "!pip install --upgrade tensorflow"
   ]
  },
  {
   "cell_type": "code",
   "execution_count": null,
   "metadata": {
    "colab": {
     "base_uri": "https://localhost:8080/"
    },
    "id": "hu-kBTQqLITd",
    "outputId": "842ed534-4116-4bae-9aa1-fee713aa6c68"
   },
   "outputs": [],
   "source": [
    "!pip install scikeras"
   ]
  },
  {
   "cell_type": "code",
   "execution_count": null,
   "metadata": {
    "colab": {
     "base_uri": "https://localhost:8080/"
    },
    "id": "IxJpINbKu9bv",
    "outputId": "b7b35d76-7bd1-4eb1-f37c-40443e463037"
   },
   "outputs": [],
   "source": [
    "!pip install h5py"
   ]
  },
  {
   "cell_type": "markdown",
   "metadata": {
    "id": "ArGO6v-l9AAX"
   },
   "source": [
    "## Importação das bibliotecas\n",
    "\n",
    "Aqui são importadas as ferramentas para criação, tunning e validação cruzada da rede neural. Além de bibliotecas essenciais para tratamento dos dados"
   ]
  },
  {
   "cell_type": "code",
   "execution_count": 2,
   "metadata": {
    "id": "ogUhgSnshX3t"
   },
   "outputs": [],
   "source": [
    "#Para criação das redes neurais\n",
    "import keras\n",
    "from keras.models import Sequential\n",
    "from keras.layers import Dense, Dropout, ELU\n",
    "from scikeras.wrappers import KerasClassifier"
   ]
  },
  {
   "cell_type": "code",
   "execution_count": 3,
   "metadata": {
    "id": "MiLWmo8ybUuz"
   },
   "outputs": [],
   "source": [
    "#Para tratamento dos dados\n",
    "import pandas as pd\n",
    "import numpy as np\n",
    "from sklearn.preprocessing import scale, minmax_scale\n",
    "\n",
    "import seaborn as sns\n",
    "import matplotlib.pyplot as plt\n",
    "\n",
    "#Para validação e avaliação dos modelos\n",
    "from sklearn.model_selection import cross_val_score, GridSearchCV, train_test_split\n",
    "from sklearn.metrics import accuracy_score"
   ]
  },
  {
   "cell_type": "markdown",
   "metadata": {
    "id": "CdQvmKWZ9ZPF"
   },
   "source": [
    "## Criação das variaveis independentes e dependentes\n",
    "\n",
    "Aqui são criadas as variáveis, contendo os dados com os quais serão trabalhados.\n",
    "\n",
    "Serão criadas três variáveis com os valores das variáveis independentes:\n",
    "> 1. Uma variável com os valores previsores \"crus\", sem qualquer pré processamento;\n",
    "> 2. Uma variável com os valores previsores padronizados com o padronizador do Scikit-Learn; e\n",
    "> 3. Uma variável con previsores normalizados com um escalador de Mínimo e Máximo do Scikit-Learn.\n",
    "\n",
    "E serão criadas variáveis também com a aplicação de um filtro nas tabelas acima"
   ]
  },
  {
   "cell_type": "markdown",
   "metadata": {},
   "source": [
    "Extrai-se, então, os dados contidos em arquivos csv; os dados previsores, que vão ser usados para prever e treinar os modelos de rede neural, e os dados das classes, a qual classe cada registro pertence"
   ]
  },
  {
   "cell_type": "code",
   "execution_count": 4,
   "metadata": {
    "id": "OYU3tNVvcFGf"
   },
   "outputs": [],
   "source": [
    "previsores = pd.read_csv('atributos_cm.csv')\n",
    "classes = pd.read_csv('classes_cm.csv')"
   ]
  },
  {
   "cell_type": "markdown",
   "metadata": {},
   "source": [
    "Um pouco de estatística descritiva sobre os dados previsores"
   ]
  },
  {
   "cell_type": "code",
   "execution_count": 5,
   "metadata": {
    "colab": {
     "base_uri": "https://localhost:8080/",
     "height": 990
    },
    "id": "Xmy_aPS448v1",
    "outputId": "86731bdf-ed80-4a62-8747-887cbbb94804"
   },
   "outputs": [
    {
     "data": {
      "text/html": [
       "<div>\n",
       "<style scoped>\n",
       "    .dataframe tbody tr th:only-of-type {\n",
       "        vertical-align: middle;\n",
       "    }\n",
       "\n",
       "    .dataframe tbody tr th {\n",
       "        vertical-align: top;\n",
       "    }\n",
       "\n",
       "    .dataframe thead th {\n",
       "        text-align: right;\n",
       "    }\n",
       "</style>\n",
       "<table border=\"1\" class=\"dataframe\">\n",
       "  <thead>\n",
       "    <tr style=\"text-align: right;\">\n",
       "      <th></th>\n",
       "      <th>count</th>\n",
       "      <th>mean</th>\n",
       "      <th>std</th>\n",
       "      <th>min</th>\n",
       "      <th>25%</th>\n",
       "      <th>50%</th>\n",
       "      <th>75%</th>\n",
       "      <th>max</th>\n",
       "    </tr>\n",
       "  </thead>\n",
       "  <tbody>\n",
       "    <tr>\n",
       "      <th>radius_mean</th>\n",
       "      <td>569.0</td>\n",
       "      <td>706.771388</td>\n",
       "      <td>2430.243368</td>\n",
       "      <td>7.760000</td>\n",
       "      <td>12.210000</td>\n",
       "      <td>13.850000</td>\n",
       "      <td>17.680000</td>\n",
       "      <td>9904.00000</td>\n",
       "    </tr>\n",
       "    <tr>\n",
       "      <th>texture_mean</th>\n",
       "      <td>569.0</td>\n",
       "      <td>19.289649</td>\n",
       "      <td>4.301036</td>\n",
       "      <td>9.710000</td>\n",
       "      <td>16.170000</td>\n",
       "      <td>18.840000</td>\n",
       "      <td>21.800000</td>\n",
       "      <td>39.28000</td>\n",
       "    </tr>\n",
       "    <tr>\n",
       "      <th>perimeter_mean</th>\n",
       "      <td>569.0</td>\n",
       "      <td>91.969033</td>\n",
       "      <td>24.298981</td>\n",
       "      <td>43.790000</td>\n",
       "      <td>75.170000</td>\n",
       "      <td>86.240000</td>\n",
       "      <td>104.100000</td>\n",
       "      <td>188.50000</td>\n",
       "    </tr>\n",
       "    <tr>\n",
       "      <th>area_mean</th>\n",
       "      <td>569.0</td>\n",
       "      <td>654.889104</td>\n",
       "      <td>351.914129</td>\n",
       "      <td>143.500000</td>\n",
       "      <td>420.300000</td>\n",
       "      <td>551.100000</td>\n",
       "      <td>782.700000</td>\n",
       "      <td>2501.00000</td>\n",
       "    </tr>\n",
       "    <tr>\n",
       "      <th>smoothness_mean</th>\n",
       "      <td>569.0</td>\n",
       "      <td>4.304801</td>\n",
       "      <td>21.074558</td>\n",
       "      <td>0.052630</td>\n",
       "      <td>0.086410</td>\n",
       "      <td>0.095940</td>\n",
       "      <td>0.106100</td>\n",
       "      <td>123.00000</td>\n",
       "    </tr>\n",
       "    <tr>\n",
       "      <th>compactness_mean</th>\n",
       "      <td>569.0</td>\n",
       "      <td>4.835984</td>\n",
       "      <td>26.827478</td>\n",
       "      <td>0.019380</td>\n",
       "      <td>0.065260</td>\n",
       "      <td>0.094620</td>\n",
       "      <td>0.132500</td>\n",
       "      <td>277.00000</td>\n",
       "    </tr>\n",
       "    <tr>\n",
       "      <th>concavity_mean</th>\n",
       "      <td>569.0</td>\n",
       "      <td>7.489124</td>\n",
       "      <td>35.618994</td>\n",
       "      <td>0.000000</td>\n",
       "      <td>0.029580</td>\n",
       "      <td>0.063870</td>\n",
       "      <td>0.142500</td>\n",
       "      <td>313.00000</td>\n",
       "    </tr>\n",
       "    <tr>\n",
       "      <th>concave_points_mean</th>\n",
       "      <td>569.0</td>\n",
       "      <td>2.366459</td>\n",
       "      <td>16.155145</td>\n",
       "      <td>0.000000</td>\n",
       "      <td>0.020310</td>\n",
       "      <td>0.033900</td>\n",
       "      <td>0.077260</td>\n",
       "      <td>162.00000</td>\n",
       "    </tr>\n",
       "    <tr>\n",
       "      <th>symmetry_mean</th>\n",
       "      <td>569.0</td>\n",
       "      <td>16.965766</td>\n",
       "      <td>53.846023</td>\n",
       "      <td>0.116700</td>\n",
       "      <td>0.163400</td>\n",
       "      <td>0.181400</td>\n",
       "      <td>0.203600</td>\n",
       "      <td>304.00000</td>\n",
       "    </tr>\n",
       "    <tr>\n",
       "      <th>fractal_dimension_mean</th>\n",
       "      <td>569.0</td>\n",
       "      <td>0.851112</td>\n",
       "      <td>7.103493</td>\n",
       "      <td>0.049960</td>\n",
       "      <td>0.057800</td>\n",
       "      <td>0.061660</td>\n",
       "      <td>0.066400</td>\n",
       "      <td>78.00000</td>\n",
       "    </tr>\n",
       "    <tr>\n",
       "      <th>radius_se</th>\n",
       "      <td>569.0</td>\n",
       "      <td>77.138555</td>\n",
       "      <td>277.327735</td>\n",
       "      <td>0.111500</td>\n",
       "      <td>0.236600</td>\n",
       "      <td>0.341600</td>\n",
       "      <td>0.585800</td>\n",
       "      <td>2873.00000</td>\n",
       "    </tr>\n",
       "    <tr>\n",
       "      <th>texture_se</th>\n",
       "      <td>569.0</td>\n",
       "      <td>825.490173</td>\n",
       "      <td>832.741506</td>\n",
       "      <td>0.360200</td>\n",
       "      <td>0.856100</td>\n",
       "      <td>1025.000000</td>\n",
       "      <td>1424.000000</td>\n",
       "      <td>4885.00000</td>\n",
       "    </tr>\n",
       "    <tr>\n",
       "      <th>perimeter_se</th>\n",
       "      <td>569.0</td>\n",
       "      <td>2549.980718</td>\n",
       "      <td>1757.074266</td>\n",
       "      <td>0.771400</td>\n",
       "      <td>1491.000000</td>\n",
       "      <td>2155.000000</td>\n",
       "      <td>3176.000000</td>\n",
       "      <td>9807.00000</td>\n",
       "    </tr>\n",
       "    <tr>\n",
       "      <th>area_se</th>\n",
       "      <td>569.0</td>\n",
       "      <td>316.226116</td>\n",
       "      <td>1532.270716</td>\n",
       "      <td>10.080000</td>\n",
       "      <td>18.520000</td>\n",
       "      <td>25.790000</td>\n",
       "      <td>49.850000</td>\n",
       "      <td>9833.00000</td>\n",
       "    </tr>\n",
       "    <tr>\n",
       "      <th>smoothness_se</th>\n",
       "      <td>569.0</td>\n",
       "      <td>0.007041</td>\n",
       "      <td>0.003003</td>\n",
       "      <td>0.001713</td>\n",
       "      <td>0.005169</td>\n",
       "      <td>0.006380</td>\n",
       "      <td>0.008146</td>\n",
       "      <td>0.03113</td>\n",
       "    </tr>\n",
       "    <tr>\n",
       "      <th>compactness_se</th>\n",
       "      <td>569.0</td>\n",
       "      <td>0.176469</td>\n",
       "      <td>1.678798</td>\n",
       "      <td>0.002252</td>\n",
       "      <td>0.013150</td>\n",
       "      <td>0.020620</td>\n",
       "      <td>0.032880</td>\n",
       "      <td>27.00000</td>\n",
       "    </tr>\n",
       "    <tr>\n",
       "      <th>concavity_se</th>\n",
       "      <td>569.0</td>\n",
       "      <td>1.153794</td>\n",
       "      <td>17.470924</td>\n",
       "      <td>0.000000</td>\n",
       "      <td>0.015090</td>\n",
       "      <td>0.026020</td>\n",
       "      <td>0.042560</td>\n",
       "      <td>396.00000</td>\n",
       "    </tr>\n",
       "    <tr>\n",
       "      <th>concave_points_se</th>\n",
       "      <td>569.0</td>\n",
       "      <td>0.067979</td>\n",
       "      <td>0.784389</td>\n",
       "      <td>0.000000</td>\n",
       "      <td>0.007638</td>\n",
       "      <td>0.010970</td>\n",
       "      <td>0.014930</td>\n",
       "      <td>12.00000</td>\n",
       "    </tr>\n",
       "    <tr>\n",
       "      <th>symmetry_se</th>\n",
       "      <td>569.0</td>\n",
       "      <td>0.231228</td>\n",
       "      <td>2.112944</td>\n",
       "      <td>0.007882</td>\n",
       "      <td>0.015180</td>\n",
       "      <td>0.018780</td>\n",
       "      <td>0.023700</td>\n",
       "      <td>31.00000</td>\n",
       "    </tr>\n",
       "    <tr>\n",
       "      <th>fractal_dimension_se</th>\n",
       "      <td>569.0</td>\n",
       "      <td>0.014329</td>\n",
       "      <td>0.251388</td>\n",
       "      <td>0.000895</td>\n",
       "      <td>0.002248</td>\n",
       "      <td>0.003187</td>\n",
       "      <td>0.004558</td>\n",
       "      <td>6.00000</td>\n",
       "    </tr>\n",
       "    <tr>\n",
       "      <th>radius_worst</th>\n",
       "      <td>569.0</td>\n",
       "      <td>315.194921</td>\n",
       "      <td>1655.459336</td>\n",
       "      <td>7.930000</td>\n",
       "      <td>13.180000</td>\n",
       "      <td>15.150000</td>\n",
       "      <td>19.850000</td>\n",
       "      <td>9981.00000</td>\n",
       "    </tr>\n",
       "    <tr>\n",
       "      <th>texture_worst</th>\n",
       "      <td>569.0</td>\n",
       "      <td>25.677223</td>\n",
       "      <td>6.146258</td>\n",
       "      <td>12.020000</td>\n",
       "      <td>21.080000</td>\n",
       "      <td>25.410000</td>\n",
       "      <td>29.720000</td>\n",
       "      <td>49.54000</td>\n",
       "    </tr>\n",
       "    <tr>\n",
       "      <th>perimeter_worst</th>\n",
       "      <td>569.0</td>\n",
       "      <td>107.261213</td>\n",
       "      <td>33.602542</td>\n",
       "      <td>50.410000</td>\n",
       "      <td>84.110000</td>\n",
       "      <td>97.660000</td>\n",
       "      <td>125.400000</td>\n",
       "      <td>251.20000</td>\n",
       "    </tr>\n",
       "    <tr>\n",
       "      <th>area_worst</th>\n",
       "      <td>569.0</td>\n",
       "      <td>880.583128</td>\n",
       "      <td>569.356993</td>\n",
       "      <td>185.200000</td>\n",
       "      <td>515.300000</td>\n",
       "      <td>686.500000</td>\n",
       "      <td>1084.000000</td>\n",
       "      <td>4254.00000</td>\n",
       "    </tr>\n",
       "    <tr>\n",
       "      <th>smoothness_worst</th>\n",
       "      <td>569.0</td>\n",
       "      <td>10.633281</td>\n",
       "      <td>37.236433</td>\n",
       "      <td>0.071170</td>\n",
       "      <td>0.117800</td>\n",
       "      <td>0.133800</td>\n",
       "      <td>0.150000</td>\n",
       "      <td>185.00000</td>\n",
       "    </tr>\n",
       "    <tr>\n",
       "      <th>compactness_worst</th>\n",
       "      <td>569.0</td>\n",
       "      <td>25.259112</td>\n",
       "      <td>96.473015</td>\n",
       "      <td>0.027290</td>\n",
       "      <td>0.150700</td>\n",
       "      <td>0.227900</td>\n",
       "      <td>0.384200</td>\n",
       "      <td>1058.00000</td>\n",
       "    </tr>\n",
       "    <tr>\n",
       "      <th>concavity_worst</th>\n",
       "      <td>569.0</td>\n",
       "      <td>26.723742</td>\n",
       "      <td>114.204035</td>\n",
       "      <td>0.000000</td>\n",
       "      <td>0.116800</td>\n",
       "      <td>0.249200</td>\n",
       "      <td>0.431600</td>\n",
       "      <td>1252.00000</td>\n",
       "    </tr>\n",
       "    <tr>\n",
       "      <th>concave_points_worst</th>\n",
       "      <td>569.0</td>\n",
       "      <td>8.745685</td>\n",
       "      <td>39.465975</td>\n",
       "      <td>0.000000</td>\n",
       "      <td>0.064990</td>\n",
       "      <td>0.101500</td>\n",
       "      <td>0.170800</td>\n",
       "      <td>291.00000</td>\n",
       "    </tr>\n",
       "    <tr>\n",
       "      <th>symmetry_worst</th>\n",
       "      <td>569.0</td>\n",
       "      <td>30.367174</td>\n",
       "      <td>90.748044</td>\n",
       "      <td>0.156500</td>\n",
       "      <td>0.254900</td>\n",
       "      <td>0.288400</td>\n",
       "      <td>0.331800</td>\n",
       "      <td>544.00000</td>\n",
       "    </tr>\n",
       "    <tr>\n",
       "      <th>fractal_dimension_worst</th>\n",
       "      <td>569.0</td>\n",
       "      <td>1.964313</td>\n",
       "      <td>14.464355</td>\n",
       "      <td>0.055040</td>\n",
       "      <td>0.071460</td>\n",
       "      <td>0.080060</td>\n",
       "      <td>0.092110</td>\n",
       "      <td>173.00000</td>\n",
       "    </tr>\n",
       "  </tbody>\n",
       "</table>\n",
       "</div>"
      ],
      "text/plain": [
       "                          count         mean          std         min  \\\n",
       " radius_mean              569.0   706.771388  2430.243368    7.760000   \n",
       " texture_mean             569.0    19.289649     4.301036    9.710000   \n",
       " perimeter_mean           569.0    91.969033    24.298981   43.790000   \n",
       " area_mean                569.0   654.889104   351.914129  143.500000   \n",
       " smoothness_mean          569.0     4.304801    21.074558    0.052630   \n",
       " compactness_mean         569.0     4.835984    26.827478    0.019380   \n",
       " concavity_mean           569.0     7.489124    35.618994    0.000000   \n",
       "concave_points_mean       569.0     2.366459    16.155145    0.000000   \n",
       " symmetry_mean            569.0    16.965766    53.846023    0.116700   \n",
       " fractal_dimension_mean   569.0     0.851112     7.103493    0.049960   \n",
       " radius_se                569.0    77.138555   277.327735    0.111500   \n",
       " texture_se               569.0   825.490173   832.741506    0.360200   \n",
       " perimeter_se             569.0  2549.980718  1757.074266    0.771400   \n",
       " area_se                  569.0   316.226116  1532.270716   10.080000   \n",
       " smoothness_se            569.0     0.007041     0.003003    0.001713   \n",
       " compactness_se           569.0     0.176469     1.678798    0.002252   \n",
       " concavity_se             569.0     1.153794    17.470924    0.000000   \n",
       " concave_points_se        569.0     0.067979     0.784389    0.000000   \n",
       " symmetry_se              569.0     0.231228     2.112944    0.007882   \n",
       " fractal_dimension_se     569.0     0.014329     0.251388    0.000895   \n",
       " radius_worst             569.0   315.194921  1655.459336    7.930000   \n",
       " texture_worst            569.0    25.677223     6.146258   12.020000   \n",
       " perimeter_worst          569.0   107.261213    33.602542   50.410000   \n",
       " area_worst               569.0   880.583128   569.356993  185.200000   \n",
       " smoothness_worst         569.0    10.633281    37.236433    0.071170   \n",
       " compactness_worst        569.0    25.259112    96.473015    0.027290   \n",
       " concavity_worst          569.0    26.723742   114.204035    0.000000   \n",
       " concave_points_worst     569.0     8.745685    39.465975    0.000000   \n",
       " symmetry_worst           569.0    30.367174    90.748044    0.156500   \n",
       " fractal_dimension_worst  569.0     1.964313    14.464355    0.055040   \n",
       "\n",
       "                                  25%          50%          75%         max  \n",
       " radius_mean                12.210000    13.850000    17.680000  9904.00000  \n",
       " texture_mean               16.170000    18.840000    21.800000    39.28000  \n",
       " perimeter_mean             75.170000    86.240000   104.100000   188.50000  \n",
       " area_mean                 420.300000   551.100000   782.700000  2501.00000  \n",
       " smoothness_mean             0.086410     0.095940     0.106100   123.00000  \n",
       " compactness_mean            0.065260     0.094620     0.132500   277.00000  \n",
       " concavity_mean              0.029580     0.063870     0.142500   313.00000  \n",
       "concave_points_mean          0.020310     0.033900     0.077260   162.00000  \n",
       " symmetry_mean               0.163400     0.181400     0.203600   304.00000  \n",
       " fractal_dimension_mean      0.057800     0.061660     0.066400    78.00000  \n",
       " radius_se                   0.236600     0.341600     0.585800  2873.00000  \n",
       " texture_se                  0.856100  1025.000000  1424.000000  4885.00000  \n",
       " perimeter_se             1491.000000  2155.000000  3176.000000  9807.00000  \n",
       " area_se                    18.520000    25.790000    49.850000  9833.00000  \n",
       " smoothness_se               0.005169     0.006380     0.008146     0.03113  \n",
       " compactness_se              0.013150     0.020620     0.032880    27.00000  \n",
       " concavity_se                0.015090     0.026020     0.042560   396.00000  \n",
       " concave_points_se           0.007638     0.010970     0.014930    12.00000  \n",
       " symmetry_se                 0.015180     0.018780     0.023700    31.00000  \n",
       " fractal_dimension_se        0.002248     0.003187     0.004558     6.00000  \n",
       " radius_worst               13.180000    15.150000    19.850000  9981.00000  \n",
       " texture_worst              21.080000    25.410000    29.720000    49.54000  \n",
       " perimeter_worst            84.110000    97.660000   125.400000   251.20000  \n",
       " area_worst                515.300000   686.500000  1084.000000  4254.00000  \n",
       " smoothness_worst            0.117800     0.133800     0.150000   185.00000  \n",
       " compactness_worst           0.150700     0.227900     0.384200  1058.00000  \n",
       " concavity_worst             0.116800     0.249200     0.431600  1252.00000  \n",
       " concave_points_worst        0.064990     0.101500     0.170800   291.00000  \n",
       " symmetry_worst              0.254900     0.288400     0.331800   544.00000  \n",
       " fractal_dimension_worst     0.071460     0.080060     0.092110   173.00000  "
      ]
     },
     "execution_count": 5,
     "metadata": {},
     "output_type": "execute_result"
    }
   ],
   "source": [
    "desc = previsores.describe().T\n",
    "desc"
   ]
  },
  {
   "cell_type": "code",
   "execution_count": 6,
   "metadata": {
    "scrolled": false
   },
   "outputs": [
    {
     "data": {
      "image/png": "[encoded data removed]",
      "text/plain": [
       "<Figure size 1080x864 with 30 Axes>"
      ]
     },
     "metadata": {},
     "output_type": "display_data"
    }
   ],
   "source": [
    "plt.figure(figsize=(15, 12)).patch.set_facecolor('white')\n",
    "local = 1\n",
    "for coluna in previsores.columns:\n",
    "    plt.subplot(6, 5, local).set_title(coluna)\n",
    "    plt.hist(x=previsores[coluna], color = 'green')\n",
    "    local += 1\n",
    "plt.tight_layout()"
   ]
  },
  {
   "cell_type": "markdown",
   "metadata": {},
   "source": [
    "Com esses histogramas percebe-se um comportamento estranho na distribuição de frequências das variáveis: os valores estão muito concentrados apenas no primeiro bin.\n",
    "\n",
    "Isso, combinado com os altos valores dos desvios padrão, é um alerta sobre a presença de outliers nos dados. Afinal se fosse um indício de alta homogeneidade, ou baixa dispersão ou variação nos dados, o desvio padrão seria pequeno e o gráfico teria mais bins. \n",
    "\n",
    "Para filtrar esses dados (e simplificar o modelo por consequência) será feito um corte, selecionando apenas as colunas cujos desvios padrão sejam inferiores a média."
   ]
  },
  {
   "cell_type": "code",
   "execution_count": 7,
   "metadata": {},
   "outputs": [],
   "source": [
    "colunas = desc.loc[desc['std'] < desc['mean']].index.to_list()"
   ]
  },
  {
   "cell_type": "markdown",
   "metadata": {},
   "source": [
    "É lógico que, dado o teor didático deste projeto, não serão criados apenas os modelos com o filtro de dados. Também serão criados modelos que levarão em conta toda a base de dados.\n",
    "\n",
    "Mas ainda assim há outro ponto importante a ser considerado: veja que cada variável possui um intervalo entre mínimo e máximo diferente das outras. Logo, dada a natureza dos cálculos envolvidos na criação de uma rede neural artificial, cada feature influenciará o modelo de maneira diferente e uma coluna pode influenciar mais do que a outra.\n",
    "\n",
    "Para resolver essa questão, além do filtro, a base de dados também será pré processada a fim de fazer com que as diferentes variáveis tenham pesos plausíveis no contexto.\n",
    "\n",
    "Serão testados dois pré-processamentos: a normalização e a padronização (ou escala)."
   ]
  },
  {
   "cell_type": "code",
   "execution_count": 8,
   "metadata": {
    "id": "N0zialH3Bn_J"
   },
   "outputs": [],
   "source": [
    "normal = pd.DataFrame(minmax_scale(previsores.values, axis = 0) , columns=[previsores.columns])\n",
    "escala = pd.DataFrame(scale(previsores.values, axis = 0), columns=[previsores.columns])\n",
    "opcoes = [previsores, normal, escala]"
   ]
  },
  {
   "cell_type": "markdown",
   "metadata": {},
   "source": [
    "Tendo as tabelas processadas podemos aplicar o filtro."
   ]
  },
  {
   "cell_type": "code",
   "execution_count": 9,
   "metadata": {},
   "outputs": [],
   "source": [
    "corte_previsores = previsores[colunas]\n",
    "corte_normal = normal[colunas]\n",
    "corte_escalado = escala[colunas]\n",
    "cortes = [corte_previsores, corte_normal, corte_escalado]"
   ]
  },
  {
   "cell_type": "markdown",
   "metadata": {},
   "source": [
    "A célula a seguir mostra boxplots que ajudarão a compreender qual o efeito do pré-processamento e do filtro sobre os dados.\n",
    "\n",
    "Caso queira ver como são os dados sem o filtro, execute a célula posterior. (Spoiller: muitos outliers e ruído)"
   ]
  },
  {
   "cell_type": "code",
   "execution_count": 10,
   "metadata": {
    "colab": {
     "base_uri": "https://localhost:8080/",
     "height": 624
    },
    "id": "NdDTr7Sv2rcB",
    "outputId": "7ff43afd-8edb-473e-eb75-dca965ea50d1"
   },
   "outputs": [
    {
     "data": {
      "image/png": "[encoded data removed]",
      "text/plain": [
       "<Figure size 720x864 with 3 Axes>"
      ]
     },
     "metadata": {},
     "output_type": "display_data"
    }
   ],
   "source": [
    "plt.figure(figsize=(10, 12)).patch.set_facecolor('white')\n",
    "local = 0\n",
    "titulos = ['Dados sem pré processamento', 'Dados normalizados', 'Dados escalados']\n",
    "for item in cortes:\n",
    "    plt.subplot(3, 1, local+1)\n",
    "    sns.boxplot(data=item, orient = 'h').set_title(titulos[local])\n",
    "    local += 1\n",
    "plt.tight_layout()"
   ]
  },
  {
   "cell_type": "code",
   "execution_count": null,
   "metadata": {},
   "outputs": [],
   "source": [
    "plt.figure(figsize=(18, 10)).patch.set_facecolor('white')\n",
    "local = 0\n",
    "titulos = ['Dados sem pré processamento', 'Dados normalizados', 'Dados escalados']\n",
    "for item in opcoes:\n",
    "    plt.subplot(1, 3, local+1)\n",
    "    sns.boxplot(data=item, orient = 'h').set_title(titulos[local])\n",
    "    local += 1\n",
    "plt.tight_layout()"
   ]
  },
  {
   "cell_type": "markdown",
   "metadata": {
    "id": "c9lQSc159qYs"
   },
   "source": [
    "## Criação dos elementos para o tunning\n",
    "\n",
    "Neste bloco são criados o dicionário de parametros para serem testados, a função de criação do modelo para teste e o GridSearch"
   ]
  },
  {
   "cell_type": "markdown",
   "metadata": {},
   "source": [
    "A fim de chegar a melhor combinação de parâmetros para a criação da rede neural será performado um processo de tunning dos parâmetros. Neste processo serão testadas diferentes combinações de parâmetros como otimizadores, funções de ativação, quantidade de neurônios em cada camada, número de camadas ocultas e porcentagem de dropout."
   ]
  },
  {
   "cell_type": "code",
   "execution_count": 11,
   "metadata": {
    "id": "GR1Cv3U6CwTW"
   },
   "outputs": [],
   "source": [
    "parametros_testados = {\n",
    "    'otimizador' : ['adam', 'SGD', 'RMSprop'],\n",
    "    'ativacao' : ['relu', 'elu'],\n",
    "    'neuronios' : [8, 16, 32],\n",
    "    'camadas': [1, 2, 3],\n",
    "    'dropout': [0, 0.2, 0.25]\n",
    "}"
   ]
  },
  {
   "cell_type": "markdown",
   "metadata": {},
   "source": [
    "Como temos tabelas de dimensões diferentes, precisaremos incluir uma variável que leve em conta a dimensão da matriz de previsores."
   ]
  },
  {
   "cell_type": "code",
   "execution_count": 12,
   "metadata": {
    "id": "DtpjDj8y6evo"
   },
   "outputs": [],
   "source": [
    "def rede_teste (otimizador, ativacao, neuronios, camadas, dropout, dimensao, **kwargs):\n",
    "    '''\n",
    "    Função que retorna o modelo para teste do dicionário de parametros especificado.\n",
    "    '''\n",
    "    modelo = Sequential()\n",
    "    modelo.add(Dense(units = neuronios, activation = ativacao, kernel_initializer = 'random_uniform',\n",
    "                     input_dim = dimensao))\n",
    "    modelo.add(Dropout(dropout))\n",
    "    for camadas in range(camadas):\n",
    "        modelo.add(Dense(units = neuronios, activation = ativacao, kernel_initializer = 'random_uniform'))\n",
    "        modelo.add(Dropout(dropout))\n",
    "    modelo.add(Dense(units = 1, activation = 'sigmoid'))\n",
    "    modelo.compile(optimizer = otimizador, loss = 'binary_crossentropy', metrics = ['binary_accuracy'])\n",
    "    return modelo"
   ]
  },
  {
   "cell_type": "markdown",
   "metadata": {},
   "source": [
    "Para maior comodidade e automatização, criemos duas variáveis contendo o número de colunas das tabelas com e sem filtro."
   ]
  },
  {
   "cell_type": "code",
   "execution_count": 13,
   "metadata": {},
   "outputs": [
    {
     "data": {
      "text/plain": [
       "(30, 8)"
      ]
     },
     "execution_count": 13,
     "metadata": {},
     "output_type": "execute_result"
    }
   ],
   "source": [
    "s_filtro = len(previsores.columns)\n",
    "filtrado = len(corte_previsores.columns)\n",
    "s_filtro, filtrado"
   ]
  },
  {
   "cell_type": "markdown",
   "metadata": {},
   "source": [
    "Chegada a hora de criar os modelos e o grid search. Serão criados dois de cada: um para as bases integras e outro para as bases cortadas. "
   ]
  },
  {
   "cell_type": "code",
   "execution_count": 14,
   "metadata": {
    "id": "ExBhq4YlHwKe"
   },
   "outputs": [],
   "source": [
    "modelo = KerasClassifier(model = rede_teste, epochs = 100, batch_size = 10, verbose = False, \n",
    "                         dimensao = s_filtro, ativacao = None, otimizador = None, neuronios = None, \n",
    "                         camadas = None, dropout = None)\n",
    "testes = GridSearchCV(estimator = modelo, param_grid = parametros_testados, scoring = 'accuracy', cv = 4, verbose = 1)"
   ]
  },
  {
   "cell_type": "code",
   "execution_count": 15,
   "metadata": {
    "id": "-ldTFXwSIBSJ"
   },
   "outputs": [],
   "source": [
    "modelo_cortes = KerasClassifier(model = rede_teste, epochs = 100, batch_size = 10, verbose = False, \n",
    "                         dimensao = filtrado, ativacao = None, otimizador = None, neuronios = None, \n",
    "                         camadas = None, dropout = None)\n",
    "testes_cortes = GridSearchCV(estimator = modelo_cortes, param_grid = parametros_testados,\n",
    "                             scoring = 'accuracy', cv = 4, verbose = 1)"
   ]
  },
  {
   "cell_type": "markdown",
   "metadata": {
    "id": "FGveVTvYA-Yk"
   },
   "source": [
    "### **GridSearch fit**\n",
    "\n",
    "Este bloco executa as duas buscas de melhores parâmetros.\n",
    "\n",
    "Ela exige muito trabalho computacioal da máquina e executar as próximas quatro células pode levar cerca de sete horas.\n",
    "\n",
    "Na produção deste notebook já foi executado este bloco, pode seguir à próxima subseção onde serão apresentados os resultados obtidos.\n",
    "\n",
    "Para que não execute o bloco por acidente os código foram comentados."
   ]
  },
  {
   "cell_type": "code",
   "execution_count": null,
   "metadata": {
    "colab": {
     "base_uri": "https://localhost:8080/",
     "height": 414
    },
    "id": "J9XBuAw0IrFa",
    "outputId": "39aa61e9-c73b-492c-b63e-2705a50126cb"
   },
   "outputs": [],
   "source": [
    "# contador = 0\n",
    "# resultados = []\n",
    "# for item in range(len(opcoes)):\n",
    "#     print(f'Começando teste {contador}')\n",
    "#     testes.fit(opcoes[item], classes)\n",
    "#     resultados.append([contador, testes.best_params_, testes.best_score_])\n",
    "#     contador += 1"
   ]
  },
  {
   "cell_type": "code",
   "execution_count": null,
   "metadata": {},
   "outputs": [],
   "source": [
    "# resultados"
   ]
  },
  {
   "cell_type": "code",
   "execution_count": null,
   "metadata": {
    "scrolled": true
   },
   "outputs": [],
   "source": [
    "# contador = 0\n",
    "# resultados_cortes = []\n",
    "# for item in range(len(cortes)):\n",
    "#     print(f'Começando teste {contador}')\n",
    "#     testes_cortes.fit(cortes[item], classes)\n",
    "#     resultados_cortes.append([contador, testes.best_params_, testes.best_score_])\n",
    "#     contador += 1"
   ]
  },
  {
   "cell_type": "code",
   "execution_count": null,
   "metadata": {},
   "outputs": [],
   "source": [
    "# resultados_cortes"
   ]
  },
  {
   "cell_type": "markdown",
   "metadata": {},
   "source": [
    "### Resultados\n",
    "\n",
    "Aqui são apresentados os resultados obtidos do tunning da rede neural"
   ]
  },
  {
   "cell_type": "markdown",
   "metadata": {
    "id": "wpl3BXhBB0rR"
   },
   "source": [
    "#### Resultados obtidos do GridSearch fit com as bases integras"
   ]
  },
  {
   "cell_type": "markdown",
   "metadata": {
    "id": "w7m8HA2uu9b0"
   },
   "source": [
    "Rodando o GridSearchCV para as três bases de previsores teremos os seguintes resultados:\n",
    "\n",
    "0. Dados originais:\n",
    "\n",
    "> Melhores parametros:\n",
    "\n",
    "        'ativacao': 'elu',\n",
    "        'camadas': 3, *além da camada de input\n",
    "        'dropout': 0.2,\n",
    "        'neuronios': 32,\n",
    "        'otimizador': 'adam'\n",
    "        \n",
    "> Melhor score:\n",
    "\n",
    "        0.9104575002462326\n",
    "        \n",
    "1. Dados normalizados:\n",
    "\n",
    "> Melhores parametros:\n",
    "\n",
    "        'ativacao': 'relu',\n",
    "        'camadas': 2, *além da camada de input\n",
    "        'dropout': 0,\n",
    "        'neuronios': 32,\n",
    "        'otimizador': 'adam'\n",
    "\n",
    "> Melhor score:\n",
    "\n",
    "        0.9490914015561903\n",
    "        \n",
    "2. Dados escalados:\n",
    "\n",
    "> Melhores parametros:\n",
    "\n",
    "        'ativacao': 'elu',\n",
    "        'camadas': 1, *além da camada de input\n",
    "        'dropout': 0.2,\n",
    "        'neuronios': 16,\n",
    "        'otimizador': 'adam'\n",
    "\n",
    "> Melhor score:\n",
    "\n",
    "        0.9525879050526938"
   ]
  },
  {
   "cell_type": "markdown",
   "metadata": {
    "id": "wpl3BXhBB0rR"
   },
   "source": [
    "#### Resultados obtidos do GridSearch fit com os cortes"
   ]
  },
  {
   "cell_type": "markdown",
   "metadata": {
    "id": "w7m8HA2uu9b0"
   },
   "source": [
    "Rodando o GridSearchCV para os cortes nas três bases de previsores teremos os seguintes resultados:\n",
    "\n",
    "0. Dados originais:\n",
    "\n",
    "> Melhores parametros:\n",
    "\n",
    "        'ativacao': 'elu',\n",
    "        'camadas': 1, *além da camada de input\n",
    "        'dropout': 0.2,\n",
    "        'neuronios': 16,\n",
    "        'otimizador': 'adam'\n",
    "        \n",
    "> Melhor score:\n",
    "\n",
    "        0.9525879050526938\n",
    "        \n",
    "1. Dados normalizados:\n",
    "\n",
    "> Melhores parametros:\n",
    "\n",
    "        'ativacao': 'elu',\n",
    "        'camadas': 1, *além da camada de input\n",
    "        'dropout': 0.2,\n",
    "        'neuronios': 16,\n",
    "        'otimizador': 'adam'\n",
    "\n",
    "> Melhor score:\n",
    "\n",
    "        0.9525879050526938\n",
    "        \n",
    "2. Dados escalados:\n",
    "\n",
    "> Melhores parametros:\n",
    "\n",
    "        'ativacao': 'elu',\n",
    "        'camadas': 1, *além da camada de input\n",
    "        'dropout': 0.2,\n",
    "        'neuronios': 16,\n",
    "        'otimizador': 'adam'\n",
    "\n",
    "> Melhor score:\n",
    "\n",
    "        0.9525879050526938"
   ]
  },
  {
   "cell_type": "markdown",
   "metadata": {},
   "source": [
    "Vê que há um padrão entre as bases filtradas, tanto nos parâmetros quanto nos scores. Isso é bom, o modelo fica mais simples com o filtro, assim, requerendo menos operações computacionais.\n",
    "\n",
    "Também é visível que o Adam é o melhor otimizador em todos os casos"
   ]
  },
  {
   "cell_type": "markdown",
   "metadata": {
    "id": "koMBTIjnBcCP"
   },
   "source": [
    "## Validação cruzada dos melhores parametros"
   ]
  },
  {
   "cell_type": "markdown",
   "metadata": {
    "id": "Mh14EnlHgKem"
   },
   "source": [
    "### Dicionários de melhores parametros, função de criação da rede neural e criação dos modelos classificadores"
   ]
  },
  {
   "cell_type": "markdown",
   "metadata": {},
   "source": [
    "Criam-se dicionários com os melhores parâmetros obtidos no tunning para serem argumentos da função de criação da rede neural. Desta forma confirmaremos qual a base de dados que apresenta melhor resultado para previsoes."
   ]
  },
  {
   "cell_type": "code",
   "execution_count": 16,
   "metadata": {
    "id": "2c_IwNsB0nDY"
   },
   "outputs": [],
   "source": [
    "n_preprocessado = {\n",
    "    'ativacao': 'elu',\n",
    "    'camadas': 3,\n",
    "    'dropout': 0.2,\n",
    "    'neuronios': 32\n",
    "}\n",
    "normalizado = {\n",
    "    'ativacao': 'relu',\n",
    "    'camadas': 2,\n",
    "    'dropout': 0,\n",
    "    'neuronios': 32\n",
    "}\n",
    "escalado = {\n",
    "    'ativacao': 'elu',\n",
    "    'camadas': 1,\n",
    "    'dropout': 0.2,\n",
    "    'neuronios': 16\n",
    "}"
   ]
  },
  {
   "cell_type": "markdown",
   "metadata": {},
   "source": [
    "Como obtivemos um padrão com o filtro de dados, basta criar apenas um dicionário com os seguintes parâmetros."
   ]
  },
  {
   "cell_type": "code",
   "execution_count": 17,
   "metadata": {},
   "outputs": [],
   "source": [
    "parametros_corte = {\n",
    "    'ativacao': 'elu',\n",
    "    'camadas': 1,\n",
    "    'dropout': 0.2,\n",
    "    'neuronios': 16\n",
    "}"
   ]
  },
  {
   "cell_type": "markdown",
   "metadata": {},
   "source": [
    "A célula seguinte declara a função que cria uma rede neural sequencial de acordo com os argumentos dados ou o dicionário passado. Após, são criados os modelos para cada dicionário."
   ]
  },
  {
   "cell_type": "code",
   "execution_count": 18,
   "metadata": {
    "id": "j2qR3SmoEHaQ"
   },
   "outputs": [],
   "source": [
    "def rede (dimensao, ativacao = 'elu', camadas = 1, dropout = 0.2, neuronios = 16, **kwargs):\n",
    "    '''\n",
    "    Função que retorna o modelo conforme os argumentos ou o dicionário de kwargs especificado.\n",
    "        Os kwargs são:\n",
    "            dimensao : int\n",
    "                diz respeito ao número de variáveis previsoras na base de dados\n",
    "            ativacao : \\'elu\\' or \\'relu\\', default : \\'elu\\'\n",
    "                função de ativação das camadas ocultas\n",
    "            camadas : int, default : 1\n",
    "                quantas camadas ocultas, além da camada de ativação, o modelo terá\n",
    "                    obs: o número total de camadas ocultas será \"camadas\" + 1\n",
    "            dropout : float, default : 0.2\n",
    "                cria camadas de dropout com a porcentagem de neuronios a serem zerados\n",
    "            neuronio : int, default : 16\n",
    "                determina quantas unidades haverão em cada camada\n",
    "    '''\n",
    "    modelo = Sequential()\n",
    "    modelo.add(Dense(units = neuronios, activation = ativacao, kernel_initializer = 'random_uniform', input_dim = dimensao))\n",
    "    modelo.add(Dropout(dropout))\n",
    "    for camadas in range(camadas):\n",
    "        modelo.add(Dense(units = neuronios, activation = ativacao, kernel_initializer = 'random_uniform'))\n",
    "        modelo.add(Dropout(dropout))\n",
    "    modelo.add(Dense(units = 1, activation = 'sigmoid'))\n",
    "    modelo.compile(optimizer = 'adam', loss = 'binary_crossentropy', metrics = ['binary_accuracy'])\n",
    "    return modelo"
   ]
  },
  {
   "cell_type": "code",
   "execution_count": 19,
   "metadata": {
    "id": "VZ-LlfOFEPRs"
   },
   "outputs": [],
   "source": [
    "modelo_n_preprocessado = KerasClassifier(model = rede(dimensao = s_filtro, **n_preprocessado), \n",
    "                                         epochs = 100, batch_size = 10, verbose = False)\n",
    "modelo_normalizado = KerasClassifier(model = rede(dimensao = s_filtro, **normalizado), \n",
    "                                     epochs = 100, batch_size = 10, verbose = False)\n",
    "modelo_escalado = KerasClassifier(model = rede(dimensao = s_filtro, **escalado), \n",
    "                                  epochs = 100, batch_size = 10, verbose = False)"
   ]
  },
  {
   "cell_type": "markdown",
   "metadata": {},
   "source": [
    "Apesar de apenas um dicionário de parâmetros para os cortes, é necessário criar três modelos para que, ao averiguarmos a acurácia com divisão de treino e teste, os modelos não se sobreescrevam."
   ]
  },
  {
   "cell_type": "code",
   "execution_count": 20,
   "metadata": {},
   "outputs": [],
   "source": [
    "modelo_filtrado = KerasClassifier(model = rede(dimensao = filtrado, **parametros_corte), \n",
    "                                         epochs = 100, batch_size = 10, verbose = False)\n",
    "modelo_fn = KerasClassifier(model = rede(dimensao = filtrado, **parametros_corte), \n",
    "                                         epochs = 100, batch_size = 10, verbose = False)\n",
    "modelo_fe = KerasClassifier(model = rede(dimensao = filtrado, **parametros_corte), \n",
    "                                         epochs = 100, batch_size = 10, verbose = False)"
   ]
  },
  {
   "cell_type": "markdown",
   "metadata": {
    "id": "ls2QBBrKgdVu"
   },
   "source": [
    "### Validação cruzada dos modelos\n",
    "\n",
    "Neste bloco são obtidos os resultados da validação cruzada dos modelos.\n",
    "\n",
    "As quatro células seguintes demoram um pouco para completarem sua execução.\n",
    "\n",
    "Caso não queira executa-las adicionei um célula de texto contendo os resultados."
   ]
  },
  {
   "cell_type": "code",
   "execution_count": 21,
   "metadata": {
    "collapsed": true,
    "id": "-RCQLcH8GDXv"
   },
   "outputs": [
    {
     "name": "stdout",
     "output_type": "stream",
     "text": [
      "INFO:tensorflow:Assets written to: C:\\Users\\ANDREZ~1\\AppData\\Local\\Temp\\tmpf3hui8xa\\assets\n",
      "INFO:tensorflow:Assets written to: C:\\Users\\ANDREZ~1\\AppData\\Local\\Temp\\tmpzzwif8w7\\assets\n",
      "INFO:tensorflow:Assets written to: C:\\Users\\ANDREZ~1\\AppData\\Local\\Temp\\tmp9zbimzq0\\assets\n",
      "INFO:tensorflow:Assets written to: C:\\Users\\ANDREZ~1\\AppData\\Local\\Temp\\tmpg0ochffu\\assets\n",
      "INFO:tensorflow:Assets written to: C:\\Users\\ANDREZ~1\\AppData\\Local\\Temp\\tmpmok3_8bv\\assets\n",
      "INFO:tensorflow:Assets written to: C:\\Users\\ANDREZ~1\\AppData\\Local\\Temp\\tmppbhftyk9\\assets\n",
      "INFO:tensorflow:Assets written to: C:\\Users\\ANDREZ~1\\AppData\\Local\\Temp\\tmpzzopff0e\\assets\n",
      "INFO:tensorflow:Assets written to: C:\\Users\\ANDREZ~1\\AppData\\Local\\Temp\\tmpnistxyia\\assets\n",
      "INFO:tensorflow:Assets written to: C:\\Users\\ANDREZ~1\\AppData\\Local\\Temp\\tmp18skcxx1\\assets\n",
      "INFO:tensorflow:Assets written to: C:\\Users\\ANDREZ~1\\AppData\\Local\\Temp\\tmpr03zsdkb\\assets\n",
      "INFO:tensorflow:Assets written to: C:\\Users\\ANDREZ~1\\AppData\\Local\\Temp\\tmp70lpyw6a\\assets\n",
      "INFO:tensorflow:Assets written to: C:\\Users\\ANDREZ~1\\AppData\\Local\\Temp\\tmp0axj5lwp\\assets\n",
      "INFO:tensorflow:Assets written to: C:\\Users\\ANDREZ~1\\AppData\\Local\\Temp\\tmpledlefon\\assets\n",
      "INFO:tensorflow:Assets written to: C:\\Users\\ANDREZ~1\\AppData\\Local\\Temp\\tmpdslrko5_\\assets\n",
      "INFO:tensorflow:Assets written to: C:\\Users\\ANDREZ~1\\AppData\\Local\\Temp\\tmpib9sucqy\\assets\n",
      "INFO:tensorflow:Assets written to: C:\\Users\\ANDREZ~1\\AppData\\Local\\Temp\\tmp66soeptr\\assets\n",
      "INFO:tensorflow:Assets written to: C:\\Users\\ANDREZ~1\\AppData\\Local\\Temp\\tmphxryl0ji\\assets\n",
      "INFO:tensorflow:Assets written to: C:\\Users\\ANDREZ~1\\AppData\\Local\\Temp\\tmpzti68j_r\\assets\n",
      "INFO:tensorflow:Assets written to: C:\\Users\\ANDREZ~1\\AppData\\Local\\Temp\\tmptid5si61\\assets\n",
      "INFO:tensorflow:Assets written to: C:\\Users\\ANDREZ~1\\AppData\\Local\\Temp\\tmp08jch_rs\\assets\n",
      "INFO:tensorflow:Assets written to: C:\\Users\\ANDREZ~1\\AppData\\Local\\Temp\\tmpr2sen08s\\assets\n",
      "INFO:tensorflow:Assets written to: C:\\Users\\ANDREZ~1\\AppData\\Local\\Temp\\tmpzgtmci8b\\assets\n",
      "INFO:tensorflow:Assets written to: C:\\Users\\ANDREZ~1\\AppData\\Local\\Temp\\tmpe15brfpy\\assets\n",
      "INFO:tensorflow:Assets written to: C:\\Users\\ANDREZ~1\\AppData\\Local\\Temp\\tmpndqklpic\\assets\n",
      "INFO:tensorflow:Assets written to: C:\\Users\\ANDREZ~1\\AppData\\Local\\Temp\\tmpgux21d4c\\assets\n",
      "INFO:tensorflow:Assets written to: C:\\Users\\ANDREZ~1\\AppData\\Local\\Temp\\tmp4yi19xgu\\assets\n",
      "INFO:tensorflow:Assets written to: C:\\Users\\ANDREZ~1\\AppData\\Local\\Temp\\tmpihtdmg7r\\assets\n",
      "INFO:tensorflow:Assets written to: C:\\Users\\ANDREZ~1\\AppData\\Local\\Temp\\tmpku_2fjgu\\assets\n",
      "INFO:tensorflow:Assets written to: C:\\Users\\ANDREZ~1\\AppData\\Local\\Temp\\tmpg911x7r4\\assets\n",
      "INFO:tensorflow:Assets written to: C:\\Users\\ANDREZ~1\\AppData\\Local\\Temp\\tmpqol0sn8b\\assets\n"
     ]
    }
   ],
   "source": [
    "cv_n_preprocessado = cross_val_score(estimator = modelo_n_preprocessado, \n",
    "                                     X = previsores, y = classes, cv = 10, scoring = 'accuracy')\n",
    "cv_normalizado = cross_val_score(estimator = modelo_normalizado, \n",
    "                                 X = normal, y = classes, cv = 10, scoring = 'accuracy')\n",
    "cv_escalado = cross_val_score(estimator = modelo_escalado, \n",
    "                              X = escala, y = classes, cv = 10, scoring = 'accuracy')"
   ]
  },
  {
   "cell_type": "markdown",
   "metadata": {},
   "source": [
    "Score para cada base de dados e modelo das bases integras."
   ]
  },
  {
   "cell_type": "code",
   "execution_count": 22,
   "metadata": {
    "colab": {
     "base_uri": "https://localhost:8080/"
    },
    "id": "lzmHJ97uGln_",
    "outputId": "39a002d2-4498-4e9b-fc41-6ed301541eb9"
   },
   "outputs": [
    {
     "data": {
      "text/plain": [
       "(0.9050751879699247, 0.938408521303258, 0.956015037593985)"
      ]
     },
     "execution_count": 22,
     "metadata": {},
     "output_type": "execute_result"
    }
   ],
   "source": [
    "cv_n_preprocessado.mean(), cv_normalizado.mean(), cv_escalado.mean()"
   ]
  },
  {
   "cell_type": "markdown",
   "metadata": {},
   "source": [
    "Output da célula acima, na sua execução em produção: \n",
    "        \n",
    "        (0.9050751879699247, 0.938408521303258, 0.956015037593985)"
   ]
  },
  {
   "cell_type": "code",
   "execution_count": 23,
   "metadata": {
    "collapsed": true
   },
   "outputs": [
    {
     "name": "stdout",
     "output_type": "stream",
     "text": [
      "INFO:tensorflow:Assets written to: C:\\Users\\ANDREZ~1\\AppData\\Local\\Temp\\tmp7nhpag9y\\assets\n",
      "INFO:tensorflow:Assets written to: C:\\Users\\ANDREZ~1\\AppData\\Local\\Temp\\tmpdyvmdi2p\\assets\n",
      "INFO:tensorflow:Assets written to: C:\\Users\\ANDREZ~1\\AppData\\Local\\Temp\\tmpa52rmdjn\\assets\n",
      "INFO:tensorflow:Assets written to: C:\\Users\\ANDREZ~1\\AppData\\Local\\Temp\\tmpaia__m0d\\assets\n",
      "INFO:tensorflow:Assets written to: C:\\Users\\ANDREZ~1\\AppData\\Local\\Temp\\tmp77jxxh7g\\assets\n",
      "INFO:tensorflow:Assets written to: C:\\Users\\ANDREZ~1\\AppData\\Local\\Temp\\tmppgo9sybx\\assets\n",
      "INFO:tensorflow:Assets written to: C:\\Users\\ANDREZ~1\\AppData\\Local\\Temp\\tmp7ojmha2t\\assets\n",
      "INFO:tensorflow:Assets written to: C:\\Users\\ANDREZ~1\\AppData\\Local\\Temp\\tmpljajex8e\\assets\n",
      "INFO:tensorflow:Assets written to: C:\\Users\\ANDREZ~1\\AppData\\Local\\Temp\\tmpphqord3t\\assets\n",
      "INFO:tensorflow:Assets written to: C:\\Users\\ANDREZ~1\\AppData\\Local\\Temp\\tmput1knzi5\\assets\n",
      "INFO:tensorflow:Assets written to: C:\\Users\\ANDREZ~1\\AppData\\Local\\Temp\\tmpfd3kp94l\\assets\n",
      "INFO:tensorflow:Assets written to: C:\\Users\\ANDREZ~1\\AppData\\Local\\Temp\\tmp0kacd6l6\\assets\n",
      "INFO:tensorflow:Assets written to: C:\\Users\\ANDREZ~1\\AppData\\Local\\Temp\\tmpvvej_pwu\\assets\n",
      "INFO:tensorflow:Assets written to: C:\\Users\\ANDREZ~1\\AppData\\Local\\Temp\\tmpdpx7_w9h\\assets\n",
      "INFO:tensorflow:Assets written to: C:\\Users\\ANDREZ~1\\AppData\\Local\\Temp\\tmpqrwb7x1o\\assets\n",
      "INFO:tensorflow:Assets written to: C:\\Users\\ANDREZ~1\\AppData\\Local\\Temp\\tmp1ebi0did\\assets\n",
      "INFO:tensorflow:Assets written to: C:\\Users\\ANDREZ~1\\AppData\\Local\\Temp\\tmpnrb28nbs\\assets\n",
      "INFO:tensorflow:Assets written to: C:\\Users\\ANDREZ~1\\AppData\\Local\\Temp\\tmp23sghy68\\assets\n",
      "INFO:tensorflow:Assets written to: C:\\Users\\ANDREZ~1\\AppData\\Local\\Temp\\tmpbz88cder\\assets\n",
      "INFO:tensorflow:Assets written to: C:\\Users\\ANDREZ~1\\AppData\\Local\\Temp\\tmphnd99qmi\\assets\n",
      "INFO:tensorflow:Assets written to: C:\\Users\\ANDREZ~1\\AppData\\Local\\Temp\\tmpyiq47rhs\\assets\n",
      "INFO:tensorflow:Assets written to: C:\\Users\\ANDREZ~1\\AppData\\Local\\Temp\\tmpduid8m1m\\assets\n",
      "INFO:tensorflow:Assets written to: C:\\Users\\ANDREZ~1\\AppData\\Local\\Temp\\tmptfsb_msy\\assets\n",
      "INFO:tensorflow:Assets written to: C:\\Users\\ANDREZ~1\\AppData\\Local\\Temp\\tmpc0czdjgz\\assets\n",
      "INFO:tensorflow:Assets written to: C:\\Users\\ANDREZ~1\\AppData\\Local\\Temp\\tmpe1kpq0v4\\assets\n",
      "INFO:tensorflow:Assets written to: C:\\Users\\ANDREZ~1\\AppData\\Local\\Temp\\tmpyf29ser3\\assets\n",
      "INFO:tensorflow:Assets written to: C:\\Users\\ANDREZ~1\\AppData\\Local\\Temp\\tmp5e_hulox\\assets\n",
      "INFO:tensorflow:Assets written to: C:\\Users\\ANDREZ~1\\AppData\\Local\\Temp\\tmpa5de696m\\assets\n",
      "INFO:tensorflow:Assets written to: C:\\Users\\ANDREZ~1\\AppData\\Local\\Temp\\tmpdz7egjwz\\assets\n",
      "INFO:tensorflow:Assets written to: C:\\Users\\ANDREZ~1\\AppData\\Local\\Temp\\tmpcqu9sh98\\assets\n"
     ]
    }
   ],
   "source": [
    "cv_cnp = cross_val_score(estimator = modelo_filtrado, \n",
    "                                     X = corte_previsores, y = classes, cv = 10, scoring = 'accuracy')\n",
    "cv_cn = cross_val_score(estimator = modelo_fn, \n",
    "                                 X = corte_normal, y = classes, cv = 10, scoring = 'accuracy')\n",
    "cv_ce = cross_val_score(estimator = modelo_fe, \n",
    "                              X = corte_escalado, y = classes, cv = 10, scoring = 'accuracy')"
   ]
  },
  {
   "cell_type": "markdown",
   "metadata": {},
   "source": [
    "Score para cada base de dados e modelo das bases filtradas."
   ]
  },
  {
   "cell_type": "code",
   "execution_count": 24,
   "metadata": {},
   "outputs": [
    {
     "data": {
      "text/plain": [
       "(0.9156641604010025, 0.9455200501253133, 0.9543233082706767)"
      ]
     },
     "execution_count": 24,
     "metadata": {},
     "output_type": "execute_result"
    }
   ],
   "source": [
    "cv_cnp.mean(), cv_cn.mean(), cv_ce.mean()"
   ]
  },
  {
   "cell_type": "markdown",
   "metadata": {},
   "source": [
    "Output da célula acima, na sua execução em produção: \n",
    "        \n",
    "        (0.9156641604010025, 0.9455200501253133, 0.9543233082706767)"
   ]
  },
  {
   "cell_type": "markdown",
   "metadata": {},
   "source": [
    "Percebe-se que os melhores resultados, tanto das bases filtradas quanto das não filtradas, está nos previsores ecalados, ou padronizados. O que é indício da necessidade de um pré processamento dos dados antes da criação dos modelos."
   ]
  },
  {
   "cell_type": "markdown",
   "metadata": {
    "id": "xwVD2Y06YZ8k"
   },
   "source": [
    "### Acurácia com divisão de treino e teste\n",
    "\n",
    "Neste bloco testaremos a acurácia do modelo simulando uma situação de treino e teste"
   ]
  },
  {
   "cell_type": "markdown",
   "metadata": {},
   "source": [
    "Separamos as bases para treino e teste da tabela de previsores, de previsores normalizados e de previsores escalados"
   ]
  },
  {
   "cell_type": "code",
   "execution_count": 25,
   "metadata": {
    "id": "ZCCZEVDKYWrs"
   },
   "outputs": [],
   "source": [
    "p_treino, p_teste, c_treino, c_teste = train_test_split(previsores, classes, test_size = 0.25, random_state = 0)\n",
    "n_treino, n_teste, _, _ = train_test_split(normal, classes, test_size = 0.25, random_state = 0)\n",
    "e_treino, e_teste, _, _ = train_test_split(escala, classes, test_size = 0.25, random_state = 0)"
   ]
  },
  {
   "cell_type": "markdown",
   "metadata": {},
   "source": [
    "Agora as bases com o corte"
   ]
  },
  {
   "cell_type": "code",
   "execution_count": 26,
   "metadata": {},
   "outputs": [],
   "source": [
    "cp_treino, cp_teste, _, _ = train_test_split(corte_previsores, classes, test_size = 0.25, random_state = 0)\n",
    "cn_treino, cn_teste, _, _ = train_test_split(corte_normal, classes, test_size = 0.25, random_state = 0)\n",
    "ce_treino, ce_teste, _, _ = train_test_split(corte_escalado, classes, test_size = 0.25, random_state = 0)"
   ]
  },
  {
   "cell_type": "markdown",
   "metadata": {},
   "source": [
    "Procedemos com o fit dos modelos"
   ]
  },
  {
   "cell_type": "code",
   "execution_count": 27,
   "metadata": {
    "collapsed": true
   },
   "outputs": [
    {
     "data": {
      "text/html": [
       "<style>#sk-container-id-1 {color: black;background-color: white;}#sk-container-id-1 pre{padding: 0;}#sk-container-id-1 div.sk-toggleable {background-color: white;}#sk-container-id-1 label.sk-toggleable__label {cursor: pointer;display: block;width: 100%;margin-bottom: 0;padding: 0.3em;box-sizing: border-box;text-align: center;}#sk-container-id-1 label.sk-toggleable__label-arrow:before {content: \"▸\";float: left;margin-right: 0.25em;color: #696969;}#sk-container-id-1 label.sk-toggleable__label-arrow:hover:before {color: black;}#sk-container-id-1 div.sk-estimator:hover label.sk-toggleable__label-arrow:before {color: black;}#sk-container-id-1 div.sk-toggleable__content {max-height: 0;max-width: 0;overflow: hidden;text-align: left;background-color: #f0f8ff;}#sk-container-id-1 div.sk-toggleable__content pre {margin: 0.2em;color: black;border-radius: 0.25em;background-color: #f0f8ff;}#sk-container-id-1 input.sk-toggleable__control:checked~div.sk-toggleable__content {max-height: 200px;max-width: 100%;overflow: auto;}#sk-container-id-1 input.sk-toggleable__control:checked~label.sk-toggleable__label-arrow:before {content: \"▾\";}#sk-container-id-1 div.sk-estimator input.sk-toggleable__control:checked~label.sk-toggleable__label {background-color: #d4ebff;}#sk-container-id-1 div.sk-label input.sk-toggleable__control:checked~label.sk-toggleable__label {background-color: #d4ebff;}#sk-container-id-1 input.sk-hidden--visually {border: 0;clip: rect(1px 1px 1px 1px);clip: rect(1px, 1px, 1px, 1px);height: 1px;margin: -1px;overflow: hidden;padding: 0;position: absolute;width: 1px;}#sk-container-id-1 div.sk-estimator {font-family: monospace;background-color: #f0f8ff;border: 1px dotted black;border-radius: 0.25em;box-sizing: border-box;margin-bottom: 0.5em;}#sk-container-id-1 div.sk-estimator:hover {background-color: #d4ebff;}#sk-container-id-1 div.sk-parallel-item::after {content: \"\";width: 100%;border-bottom: 1px solid gray;flex-grow: 1;}#sk-container-id-1 div.sk-label:hover label.sk-toggleable__label {background-color: #d4ebff;}#sk-container-id-1 div.sk-serial::before {content: \"\";position: absolute;border-left: 1px solid gray;box-sizing: border-box;top: 0;bottom: 0;left: 50%;z-index: 0;}#sk-container-id-1 div.sk-serial {display: flex;flex-direction: column;align-items: center;background-color: white;padding-right: 0.2em;padding-left: 0.2em;position: relative;}#sk-container-id-1 div.sk-item {position: relative;z-index: 1;}#sk-container-id-1 div.sk-parallel {display: flex;align-items: stretch;justify-content: center;background-color: white;position: relative;}#sk-container-id-1 div.sk-item::before, #sk-container-id-1 div.sk-parallel-item::before {content: \"\";position: absolute;border-left: 1px solid gray;box-sizing: border-box;top: 0;bottom: 0;left: 50%;z-index: -1;}#sk-container-id-1 div.sk-parallel-item {display: flex;flex-direction: column;z-index: 1;position: relative;background-color: white;}#sk-container-id-1 div.sk-parallel-item:first-child::after {align-self: flex-end;width: 50%;}#sk-container-id-1 div.sk-parallel-item:last-child::after {align-self: flex-start;width: 50%;}#sk-container-id-1 div.sk-parallel-item:only-child::after {width: 0;}#sk-container-id-1 div.sk-dashed-wrapped {border: 1px dashed gray;margin: 0 0.4em 0.5em 0.4em;box-sizing: border-box;padding-bottom: 0.4em;background-color: white;}#sk-container-id-1 div.sk-label label {font-family: monospace;font-weight: bold;display: inline-block;line-height: 1.2em;}#sk-container-id-1 div.sk-label-container {text-align: center;}#sk-container-id-1 div.sk-container {/* jupyter's `normalize.less` sets `[hidden] { display: none; }` but bootstrap.min.css set `[hidden] { display: none !important; }` so we also need the `!important` here to be able to override the default hidden behavior on the sphinx rendered scikit-learn.org. See: https://github.com/scikit-learn/scikit-learn/issues/21755 */display: inline-block !important;position: relative;}#sk-container-id-1 div.sk-text-repr-fallback {display: none;}</style><div id=\"sk-container-id-1\" class=\"sk-top-container\"><div class=\"sk-text-repr-fallback\"><pre>KerasClassifier(\n",
       "\tmodel=&lt;keras.engine.sequential.Sequential object at 0x00000253419C7CA0&gt;\n",
       "\tbuild_fn=None\n",
       "\twarm_start=False\n",
       "\trandom_state=None\n",
       "\toptimizer=rmsprop\n",
       "\tloss=None\n",
       "\tmetrics=None\n",
       "\tbatch_size=10\n",
       "\tvalidation_batch_size=None\n",
       "\tverbose=False\n",
       "\tcallbacks=None\n",
       "\tvalidation_split=0.0\n",
       "\tshuffle=True\n",
       "\trun_eagerly=False\n",
       "\tepochs=100\n",
       "\tclass_weight=None\n",
       ")</pre><b>In a Jupyter environment, please rerun this cell to show the HTML representation or trust the notebook. <br />On GitHub, the HTML representation is unable to render, please try loading this page with nbviewer.org.</b></div><div class=\"sk-container\" hidden><div class=\"sk-item\"><div class=\"sk-estimator sk-toggleable\"><input class=\"sk-toggleable__control sk-hidden--visually\" id=\"sk-estimator-id-1\" type=\"checkbox\" checked><label for=\"sk-estimator-id-1\" class=\"sk-toggleable__label sk-toggleable__label-arrow\">KerasClassifier</label><div class=\"sk-toggleable__content\"><pre>KerasClassifier(\n",
       "\tmodel=&lt;keras.engine.sequential.Sequential object at 0x00000253419C7CA0&gt;\n",
       "\tbuild_fn=None\n",
       "\twarm_start=False\n",
       "\trandom_state=None\n",
       "\toptimizer=rmsprop\n",
       "\tloss=None\n",
       "\tmetrics=None\n",
       "\tbatch_size=10\n",
       "\tvalidation_batch_size=None\n",
       "\tverbose=False\n",
       "\tcallbacks=None\n",
       "\tvalidation_split=0.0\n",
       "\tshuffle=True\n",
       "\trun_eagerly=False\n",
       "\tepochs=100\n",
       "\tclass_weight=None\n",
       ")</pre></div></div></div></div></div>"
      ],
      "text/plain": [
       "KerasClassifier(\n",
       "\tmodel=<keras.engine.sequential.Sequential object at 0x00000253419C7CA0>\n",
       "\tbuild_fn=None\n",
       "\twarm_start=False\n",
       "\trandom_state=None\n",
       "\toptimizer=rmsprop\n",
       "\tloss=None\n",
       "\tmetrics=None\n",
       "\tbatch_size=10\n",
       "\tvalidation_batch_size=None\n",
       "\tverbose=False\n",
       "\tcallbacks=None\n",
       "\tvalidation_split=0.0\n",
       "\tshuffle=True\n",
       "\trun_eagerly=False\n",
       "\tepochs=100\n",
       "\tclass_weight=None\n",
       ")"
      ]
     },
     "execution_count": 27,
     "metadata": {},
     "output_type": "execute_result"
    }
   ],
   "source": [
    "modelo_n_preprocessado.fit(p_treino, c_treino)\n",
    "modelo_normalizado.fit(n_treino, c_treino)\n",
    "modelo_escalado.fit(e_treino, c_treino)"
   ]
  },
  {
   "cell_type": "markdown",
   "metadata": {},
   "source": [
    "Agora os modelos filtrado, filtrado e normalizado, e filtrado e escalado"
   ]
  },
  {
   "cell_type": "code",
   "execution_count": 28,
   "metadata": {
    "collapsed": true
   },
   "outputs": [
    {
     "data": {
      "text/html": [
       "<style>#sk-container-id-2 {color: black;background-color: white;}#sk-container-id-2 pre{padding: 0;}#sk-container-id-2 div.sk-toggleable {background-color: white;}#sk-container-id-2 label.sk-toggleable__label {cursor: pointer;display: block;width: 100%;margin-bottom: 0;padding: 0.3em;box-sizing: border-box;text-align: center;}#sk-container-id-2 label.sk-toggleable__label-arrow:before {content: \"▸\";float: left;margin-right: 0.25em;color: #696969;}#sk-container-id-2 label.sk-toggleable__label-arrow:hover:before {color: black;}#sk-container-id-2 div.sk-estimator:hover label.sk-toggleable__label-arrow:before {color: black;}#sk-container-id-2 div.sk-toggleable__content {max-height: 0;max-width: 0;overflow: hidden;text-align: left;background-color: #f0f8ff;}#sk-container-id-2 div.sk-toggleable__content pre {margin: 0.2em;color: black;border-radius: 0.25em;background-color: #f0f8ff;}#sk-container-id-2 input.sk-toggleable__control:checked~div.sk-toggleable__content {max-height: 200px;max-width: 100%;overflow: auto;}#sk-container-id-2 input.sk-toggleable__control:checked~label.sk-toggleable__label-arrow:before {content: \"▾\";}#sk-container-id-2 div.sk-estimator input.sk-toggleable__control:checked~label.sk-toggleable__label {background-color: #d4ebff;}#sk-container-id-2 div.sk-label input.sk-toggleable__control:checked~label.sk-toggleable__label {background-color: #d4ebff;}#sk-container-id-2 input.sk-hidden--visually {border: 0;clip: rect(1px 1px 1px 1px);clip: rect(1px, 1px, 1px, 1px);height: 1px;margin: -1px;overflow: hidden;padding: 0;position: absolute;width: 1px;}#sk-container-id-2 div.sk-estimator {font-family: monospace;background-color: #f0f8ff;border: 1px dotted black;border-radius: 0.25em;box-sizing: border-box;margin-bottom: 0.5em;}#sk-container-id-2 div.sk-estimator:hover {background-color: #d4ebff;}#sk-container-id-2 div.sk-parallel-item::after {content: \"\";width: 100%;border-bottom: 1px solid gray;flex-grow: 1;}#sk-container-id-2 div.sk-label:hover label.sk-toggleable__label {background-color: #d4ebff;}#sk-container-id-2 div.sk-serial::before {content: \"\";position: absolute;border-left: 1px solid gray;box-sizing: border-box;top: 0;bottom: 0;left: 50%;z-index: 0;}#sk-container-id-2 div.sk-serial {display: flex;flex-direction: column;align-items: center;background-color: white;padding-right: 0.2em;padding-left: 0.2em;position: relative;}#sk-container-id-2 div.sk-item {position: relative;z-index: 1;}#sk-container-id-2 div.sk-parallel {display: flex;align-items: stretch;justify-content: center;background-color: white;position: relative;}#sk-container-id-2 div.sk-item::before, #sk-container-id-2 div.sk-parallel-item::before {content: \"\";position: absolute;border-left: 1px solid gray;box-sizing: border-box;top: 0;bottom: 0;left: 50%;z-index: -1;}#sk-container-id-2 div.sk-parallel-item {display: flex;flex-direction: column;z-index: 1;position: relative;background-color: white;}#sk-container-id-2 div.sk-parallel-item:first-child::after {align-self: flex-end;width: 50%;}#sk-container-id-2 div.sk-parallel-item:last-child::after {align-self: flex-start;width: 50%;}#sk-container-id-2 div.sk-parallel-item:only-child::after {width: 0;}#sk-container-id-2 div.sk-dashed-wrapped {border: 1px dashed gray;margin: 0 0.4em 0.5em 0.4em;box-sizing: border-box;padding-bottom: 0.4em;background-color: white;}#sk-container-id-2 div.sk-label label {font-family: monospace;font-weight: bold;display: inline-block;line-height: 1.2em;}#sk-container-id-2 div.sk-label-container {text-align: center;}#sk-container-id-2 div.sk-container {/* jupyter's `normalize.less` sets `[hidden] { display: none; }` but bootstrap.min.css set `[hidden] { display: none !important; }` so we also need the `!important` here to be able to override the default hidden behavior on the sphinx rendered scikit-learn.org. See: https://github.com/scikit-learn/scikit-learn/issues/21755 */display: inline-block !important;position: relative;}#sk-container-id-2 div.sk-text-repr-fallback {display: none;}</style><div id=\"sk-container-id-2\" class=\"sk-top-container\"><div class=\"sk-text-repr-fallback\"><pre>KerasClassifier(\n",
       "\tmodel=&lt;keras.engine.sequential.Sequential object at 0x0000025341A37B80&gt;\n",
       "\tbuild_fn=None\n",
       "\twarm_start=False\n",
       "\trandom_state=None\n",
       "\toptimizer=rmsprop\n",
       "\tloss=None\n",
       "\tmetrics=None\n",
       "\tbatch_size=10\n",
       "\tvalidation_batch_size=None\n",
       "\tverbose=False\n",
       "\tcallbacks=None\n",
       "\tvalidation_split=0.0\n",
       "\tshuffle=True\n",
       "\trun_eagerly=False\n",
       "\tepochs=100\n",
       "\tclass_weight=None\n",
       ")</pre><b>In a Jupyter environment, please rerun this cell to show the HTML representation or trust the notebook. <br />On GitHub, the HTML representation is unable to render, please try loading this page with nbviewer.org.</b></div><div class=\"sk-container\" hidden><div class=\"sk-item\"><div class=\"sk-estimator sk-toggleable\"><input class=\"sk-toggleable__control sk-hidden--visually\" id=\"sk-estimator-id-2\" type=\"checkbox\" checked><label for=\"sk-estimator-id-2\" class=\"sk-toggleable__label sk-toggleable__label-arrow\">KerasClassifier</label><div class=\"sk-toggleable__content\"><pre>KerasClassifier(\n",
       "\tmodel=&lt;keras.engine.sequential.Sequential object at 0x0000025341A37B80&gt;\n",
       "\tbuild_fn=None\n",
       "\twarm_start=False\n",
       "\trandom_state=None\n",
       "\toptimizer=rmsprop\n",
       "\tloss=None\n",
       "\tmetrics=None\n",
       "\tbatch_size=10\n",
       "\tvalidation_batch_size=None\n",
       "\tverbose=False\n",
       "\tcallbacks=None\n",
       "\tvalidation_split=0.0\n",
       "\tshuffle=True\n",
       "\trun_eagerly=False\n",
       "\tepochs=100\n",
       "\tclass_weight=None\n",
       ")</pre></div></div></div></div></div>"
      ],
      "text/plain": [
       "KerasClassifier(\n",
       "\tmodel=<keras.engine.sequential.Sequential object at 0x0000025341A37B80>\n",
       "\tbuild_fn=None\n",
       "\twarm_start=False\n",
       "\trandom_state=None\n",
       "\toptimizer=rmsprop\n",
       "\tloss=None\n",
       "\tmetrics=None\n",
       "\tbatch_size=10\n",
       "\tvalidation_batch_size=None\n",
       "\tverbose=False\n",
       "\tcallbacks=None\n",
       "\tvalidation_split=0.0\n",
       "\tshuffle=True\n",
       "\trun_eagerly=False\n",
       "\tepochs=100\n",
       "\tclass_weight=None\n",
       ")"
      ]
     },
     "execution_count": 28,
     "metadata": {},
     "output_type": "execute_result"
    }
   ],
   "source": [
    "modelo_filtrado.fit(cp_treino, c_treino)\n",
    "modelo_fn.fit(cn_treino, c_treino)\n",
    "modelo_fe.fit(ce_treino, c_treino)"
   ]
  },
  {
   "cell_type": "markdown",
   "metadata": {},
   "source": [
    "Prevemos as variáveis de teste"
   ]
  },
  {
   "cell_type": "code",
   "execution_count": 29,
   "metadata": {
    "id": "W8uyuHaub7Vd"
   },
   "outputs": [],
   "source": [
    "p_previsores = modelo_n_preprocessado.predict(p_teste)\n",
    "p_normal = modelo_normalizado.predict(n_teste)\n",
    "p_escala = modelo_escalado.predict(e_teste)\n",
    "previsoes_integras = [p_previsores, p_normal, p_escala]"
   ]
  },
  {
   "cell_type": "code",
   "execution_count": 30,
   "metadata": {},
   "outputs": [],
   "source": [
    "p_cp = modelo_filtrado.predict(cp_teste)\n",
    "p_cn = modelo_fn.predict(cn_teste)\n",
    "p_ce = modelo_fe.predict(ce_teste)\n",
    "previsores_filtradas = [p_cp, p_cn, p_ce]"
   ]
  },
  {
   "cell_type": "markdown",
   "metadata": {},
   "source": [
    "Extraimos a pontuação de acurácia das previsões."
   ]
  },
  {
   "cell_type": "code",
   "execution_count": 31,
   "metadata": {
    "id": "KuZIkHJngEsu"
   },
   "outputs": [
    {
     "name": "stdout",
     "output_type": "stream",
     "text": [
      "0.9090909090909091\n",
      "0.9230769230769231\n",
      "0.9440559440559441\n"
     ]
    }
   ],
   "source": [
    "for item in previsoes_integras:\n",
    "    print(accuracy_score(item, c_teste))"
   ]
  },
  {
   "cell_type": "code",
   "execution_count": 32,
   "metadata": {},
   "outputs": [
    {
     "name": "stdout",
     "output_type": "stream",
     "text": [
      "0.9370629370629371\n",
      "0.972027972027972\n",
      "0.958041958041958\n"
     ]
    }
   ],
   "source": [
    "for item in previsores_filtradas:\n",
    "    print(accuracy_score(item, c_teste))"
   ]
  },
  {
   "cell_type": "markdown",
   "metadata": {},
   "source": [
    "Com base nos resultados vemos que, dentre as bases sem filtro, a base escalada se sai melhor;\n",
    "\n",
    "Porém, dentre as bases filtradas, a que se sai melhor é a normalizada com impressionantes (na execução da célula em produção) 97.2% de acurácia."
   ]
  },
  {
   "cell_type": "markdown",
   "metadata": {
    "id": "tO3UYLrmg9vj"
   },
   "source": [
    "## Salvando os modelos\n",
    "\n",
    "A fim de replicar os resultados é interessante que se salvem os modelos."
   ]
  },
  {
   "cell_type": "markdown",
   "metadata": {},
   "source": [
    "Cria-se um dicionário onde cada chave corresponde a uma lista contendo o modelo e o nome que será usado para criar os arquivos."
   ]
  },
  {
   "cell_type": "code",
   "execution_count": 33,
   "metadata": {
    "id": "h5drq-E0qpW9"
   },
   "outputs": [],
   "source": [
    "modelos = {\n",
    "    0 : [modelo_n_preprocessado, 'n_preprocessado'],\n",
    "    1 : [modelo_normalizado, 'normalizado'],\n",
    "    2 : [modelo_escalado, 'escalado'],\n",
    "    3 : [modelo_filtrado, 'corte_n_preprocessado'],\n",
    "    4 : [modelo_fn, 'corte_normalizado'],\n",
    "    5 : [modelo_fe, 'corte_escalado']\n",
    "}"
   ]
  },
  {
   "cell_type": "code",
   "execution_count": 34,
   "metadata": {
    "id": "piF-DmkHqqNE"
   },
   "outputs": [],
   "source": [
    "for key in modelos:\n",
    "    with open(f'modelos/{modelos[key][1]}_estrutura.json', 'w') as json_file:\n",
    "        json_file.write(modelos[key][0].model_.to_json())\n",
    "    modelos[key][0].model.save(f'modelos/{modelos[key][1]}_pesos.h5')"
   ]
  },
  {
   "cell_type": "markdown",
   "metadata": {},
   "source": [
    "## Conclusão"
   ]
  },
  {
   "cell_type": "markdown",
   "metadata": {},
   "source": [
    "Este breve e simplório projeto tinha por objetivo encontrar a melhor combinação de parâmetros e processos a fim de criar um modelo de previsão com a maior acurácia possivel para a base de dados de câncer de mama.\n",
    "\n",
    "Chegamos a conclusão que: aplicando-se um filtro que considere apenas as variáveis mais consistentes em questão da presença de valores aberrantes; escalando os valores das variáveis previsoras; e criando um modelo de redes neurais artificiais com duas camadas, 16 neurônios em cada camada oculta, 20% nas camadas de dropout, função de ativação ELU (Exponencial Linear Unit) e usando o otimizador Adam podemos atingir 95% de acurácia com facilidade.\n",
    "\n",
    "Ressalto a importância de se tratarem os outliers da base de dados. Contudo é necessário saber se determinados valores seriam outliers ou não. Pode ter sido aplicado o filtro e excluído variáveis cruciais para que um médico determine se o tumor é maligno ou benigno. As análises feitas nesse bloco de notas são meramente estatísticas visto que seu criador não possui expertiise ncessária para ser médico.\n",
    "\n",
    "Portanto proponho que seja executada apenas a padronização da base de dados por meio da escala como pré processamento dos dados. Destarte não excluíremos nenhuma variável (o que vem acompanhado de um custo computacional), mas ainda teremos 95% de acurácia."
   ]
  },
  {
   "cell_type": "code",
   "execution_count": null,
   "metadata": {
    "id": "eO-sjvwTg87C"
   },
   "outputs": [],
   "source": []
  }
 ],
 "metadata": {
  "colab": {
   "name": "Cancer_de_mama.ipynb",
   "provenance": []
  },
  "kernelspec": {
   "display_name": "Python 3 (ipykernel)",
   "language": "python",
   "name": "python3"
  },
  "language_info": {
   "codemirror_mode": {
    "name": "ipython",
    "version": 3
   },
   "file_extension": ".py",
   "mimetype": "text/x-python",
   "name": "python",
   "nbconvert_exporter": "python",
   "pygments_lexer": "ipython3",
   "version": "3.10.0"
  },
  "vscode": {
   "interpreter": {
    "hash": "cdc93e3480568ff1254b908e6926c0448278e2ab76fad19060b778d24083c71f"
   }
  }
 },
 "nbformat": 4,
 "nbformat_minor": 1
}
